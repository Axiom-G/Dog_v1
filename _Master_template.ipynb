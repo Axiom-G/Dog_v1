{
  "nbformat": 4,
  "nbformat_minor": 0,
  "metadata": {
    "colab": {
      "name": "_Master_template.ipynb",
      "provenance": [],
      "authorship_tag": "ABX9TyP+kKMvPp0P20+h1ol8Z/W6",
      "include_colab_link": true
    },
    "kernelspec": {
      "name": "python3",
      "display_name": "Python 3"
    },
    "language_info": {
      "name": "python"
    }
  },
  "cells": [
    {
      "cell_type": "markdown",
      "metadata": {
        "id": "view-in-github",
        "colab_type": "text"
      },
      "source": [
        "<a href=\"https://colab.research.google.com/github/Axiom-G/Dog_v1/blob/main/_Master_template.ipynb\" target=\"_parent\"><img src=\"https://colab.research.google.com/assets/colab-badge.svg\" alt=\"Open In Colab\"/></a>"
      ]
    },
    {
      "cell_type": "markdown",
      "source": [
        "Load drive"
      ],
      "metadata": {
        "id": "51cerpgrA3mC"
      }
    },
    {
      "cell_type": "code",
      "execution_count": 2,
      "metadata": {
        "id": "4DkwYvKPkj7B",
        "colab": {
          "base_uri": "https://localhost:8080/"
        },
        "outputId": "42a7d84e-99b1-4a71-c203-32744df08872"
      },
      "outputs": [
        {
          "output_type": "stream",
          "name": "stdout",
          "text": [
            "Mounted at /content/drive/\n"
          ]
        }
      ],
      "source": [
        "from google.colab import drive\n",
        "drive.mount('/content/drive/')"
      ]
    },
    {
      "cell_type": "markdown",
      "source": [
        "Load GitHub"
      ],
      "metadata": {
        "id": "H8MOFEwjA_ju"
      }
    },
    {
      "cell_type": "code",
      "source": [
        "#%cd /content/drive/MyDrive/Github/\n",
        "!git init Dog_v1# your_directory"
      ],
      "metadata": {
        "colab": {
          "base_uri": "https://localhost:8080/"
        },
        "id": "R0SMliPoA2iS",
        "outputId": "c2577428-50ea-46a4-fb28-380849e40529"
      },
      "execution_count": 7,
      "outputs": [
        {
          "output_type": "stream",
          "name": "stdout",
          "text": [
            "usage: git init [-q | --quiet] [--bare] [--template=<template-directory>] [--shared[=<permissions>]] [<directory>]\n"
          ]
        }
      ]
    },
    {
      "cell_type": "code",
      "source": [
        "%cd Dog_v1/\n",
        "%ls -a"
      ],
      "metadata": {
        "colab": {
          "base_uri": "https://localhost:8080/"
        },
        "id": "v_HlQDnKxq4m",
        "outputId": "760136a0-e6cb-4fc6-860f-e76575f6a331"
      },
      "execution_count": 8,
      "outputs": [
        {
          "output_type": "stream",
          "name": "stdout",
          "text": [
            "[Errno 2] No such file or directory: 'Dog_v1/'\n",
            "/content/drive/MyDrive/Github\n"
          ]
        }
      ]
    },
    {
      "cell_type": "markdown",
      "source": [
        "Install & Load Packages"
      ],
      "metadata": {
        "id": "h-0tV_VBBDvH"
      }
    },
    {
      "cell_type": "code",
      "source": [
        ""
      ],
      "metadata": {
        "id": "XHLLxCYIBXWC"
      },
      "execution_count": null,
      "outputs": []
    }
  ]
}